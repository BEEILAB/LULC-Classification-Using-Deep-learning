{
  "nbformat": 4,
  "nbformat_minor": 0,
  "metadata": {
    "colab": {
      "provenance": [],
      "gpuType": "T4"
    },
    "kernelspec": {
      "name": "python3",
      "display_name": "Python 3"
    },
    "language_info": {
      "name": "python"
    },
    "accelerator": "GPU"
  },
  "cells": [
    {
      "cell_type": "markdown",
      "source": [
        "# **Preprocessing**"
      ],
      "metadata": {
        "id": "lsnvFF6EMm2j"
      }
    },
    {
      "cell_type": "code",
      "execution_count": null,
      "metadata": {
        "id": "cxtsbsynxusR"
      },
      "outputs": [],
      "source": [
        "from osgeo import gdal\n",
        "import numpy as np\n",
        "import os"
      ]
    },
    {
      "cell_type": "code",
      "source": [
        "from google.colab import drive\n",
        "drive.mount('/content/drive')"
      ],
      "metadata": {
        "colab": {
          "base_uri": "https://localhost:8080/"
        },
        "id": "GkZpYliblatD",
        "outputId": "9924b2ed-061f-4db8-8abd-5033d8d96a2b"
      },
      "execution_count": null,
      "outputs": [
        {
          "output_type": "stream",
          "name": "stdout",
          "text": [
            "Mounted at /content/drive\n"
          ]
        }
      ]
    },
    {
      "cell_type": "code",
      "source": [
        "# Specify the path to the main folder containing class folders in Google Drive\n",
        "folders_path = '/content/drive/MyDrive/Data/'\n",
        "\n",
        "# List the class folders within the main folder\n",
        "classes = os.listdir(folders_path)\n",
        "\n",
        "# Create an empty dictionary to store class names and their corresponding numerical labels\n",
        "dict_class = {}\n",
        "\n",
        "# Iterate through the classes and assign a numerical label to each class\n",
        "for i in range(len(classes)):\n",
        "    # The numerical label is assigned as i+1 to start from 1\n",
        "    dict_class.update({classes[i]: i + 1})\n",
        "\n",
        "# Display the resulting dictionary\n",
        "dict_class"
      ],
      "metadata": {
        "colab": {
          "base_uri": "https://localhost:8080/"
        },
        "id": "YJ0c__1f8Xbk",
        "outputId": "9f716f2f-bb57-4f1b-f34e-ff0456de5d7f"
      },
      "execution_count": null,
      "outputs": [
        {
          "output_type": "execute_result",
          "data": {
            "text/plain": [
              "{'PermanentCrop': 1,\n",
              " 'River': 2,\n",
              " 'Highway': 3,\n",
              " 'Residential': 4,\n",
              " 'SeaLake': 5,\n",
              " 'Pasture': 6,\n",
              " 'HerbaceousVegetation': 7,\n",
              " 'AnnualCrop': 8,\n",
              " 'Industrial': 9,\n",
              " 'Forest': 10}"
            ]
          },
          "metadata": {},
          "execution_count": 5
        }
      ]
    },
    {
      "cell_type": "code",
      "source": [
        "# Define the total number of classes in your dataset\n",
        "num_classes = 10\n",
        "\n",
        "# Specify the number of patches\n",
        "patch_numbers = 1000\n",
        "\n",
        "# Define the size of each image patch (assuming it's a square)\n",
        "patch_size = 64\n",
        "\n",
        "# Specify the number of spectral bands in your satellite imagery\n",
        "bands = 13\n",
        "\n",
        "# Create empty arrays to store your input images (X) and corresponding labels (Y)\n",
        "X = np.zeros((patch_numbers, patch_size, patch_size, bands), dtype='float32')\n",
        "Y = np.zeros((patch_numbers, num_classes), dtype='float32')"
      ],
      "metadata": {
        "id": "XbotiZAB82gj"
      },
      "execution_count": null,
      "outputs": []
    },
    {
      "cell_type": "code",
      "source": [
        "# Initialize a counter to keep track of the total number of patches processed\n",
        "Counter = 0\n",
        "# Iterate through each class in your dataset\n",
        "for cls in classes:\n",
        "    # Get a list of images in the current class folder\n",
        "    image_list = os.listdir(folders_path + cls)\n",
        "\n",
        "    # Iterate through each image in the current class\n",
        "    for img in image_list:\n",
        "        # Read the image using GDAL (assuming it's a raster image)\n",
        "        image = gdal.Open(folders_path + cls + '/' + img).ReadAsArray()\n",
        "\n",
        "        # Create an empty array to store the reshaped image with the desired patch size and bands\n",
        "        new_image = np.zeros((patch_size, patch_size, bands), dtype='float32')\n",
        "\n",
        "        # Iterate through each band in the original image\n",
        "        for b in range(bands):\n",
        "            # Copy the band to the corresponding slice in the new image\n",
        "            new_image[:, :, b] = image[b, :, :]\n",
        "\n",
        "        # Store the reshaped image in the X array\n",
        "        X[Counter, :, :, :] = new_image\n",
        "\n",
        "        # Determine the column (class label) for the current image and update the Y array\n",
        "        column = dict_class[cls]\n",
        "        Y[Counter, column - 1] = 1\n",
        "\n",
        "        # Increment the counter\n",
        "        Counter = Counter + 1"
      ],
      "metadata": {
        "id": "c25AP-S3x23Q"
      },
      "execution_count": null,
      "outputs": []
    },
    {
      "cell_type": "code",
      "source": [
        "# Print the shapes of the X and Y arrays for verification\n",
        "print('X shape: ', X.shape)\n",
        "print('Y shape: ', Y.shape)"
      ],
      "metadata": {
        "colab": {
          "base_uri": "https://localhost:8080/"
        },
        "id": "CYtUOXCYDoqT",
        "outputId": "f0ceb08f-45ba-49c6-ec5f-d6867822f19d"
      },
      "execution_count": null,
      "outputs": [
        {
          "output_type": "stream",
          "name": "stdout",
          "text": [
            "X shape:  (1000, 64, 64, 13)\n",
            "Y shape:  (1000, 10)\n"
          ]
        }
      ]
    },
    {
      "cell_type": "code",
      "source": [
        "# Create an array of indices ranging from 0 to the total number of patches\n",
        "indexes = np.arange(X.shape[0])\n",
        "\n",
        "# Shuffle the indices randomly to ensure randomness in train/validation split\n",
        "np.random.shuffle(indexes)\n",
        "\n",
        "# Determine the index for the split between training and validation sets (90%/10%)\n",
        "train_index = indexes[: int(0.9 * X.shape[0])]\n",
        "val_index = indexes[int(0.9 * X.shape[0]):]\n",
        "\n",
        "# Use the indices to extract the corresponding patches for training and validation\n",
        "x_train = X[train_index]\n",
        "x_val = X[val_index]\n",
        "y_train = Y[train_index]\n",
        "y_val = Y[val_index]\n",
        "\n",
        "# Print the shapes of the training and validation sets for verification\n",
        "print('X Train shape: ', x_train.shape)\n",
        "print('Y Train shape: ', y_train.shape)\n",
        "print('X Validation shape: ', x_val.shape)\n",
        "print('Y Validation shape: ', y_val.shape)"
      ],
      "metadata": {
        "colab": {
          "base_uri": "https://localhost:8080/"
        },
        "id": "EIjNGIre628g",
        "outputId": "d6a6e6f4-37bb-4769-ec69-a68ff51b6d3e"
      },
      "execution_count": null,
      "outputs": [
        {
          "output_type": "stream",
          "name": "stdout",
          "text": [
            "X Train shape:  (900, 64, 64, 13)\n",
            "Y Train shape:  (900, 10)\n",
            "X Validation shape:  (100, 64, 64, 13)\n",
            "Y Validation shape:  (100, 10)\n"
          ]
        }
      ]
    },
    {
      "cell_type": "markdown",
      "source": [
        "# **Deep Learning Model**"
      ],
      "metadata": {
        "id": "qrXbWE4eMhCc"
      }
    },
    {
      "cell_type": "code",
      "source": [
        "import tensorflow as tf\n",
        "from tensorflow.keras import layers"
      ],
      "metadata": {
        "id": "vhrJ1LWTHCxM"
      },
      "execution_count": null,
      "outputs": []
    },
    {
      "cell_type": "code",
      "source": [
        "def cnn_model(input_shape, num_classes=10):\n",
        "    # Define the input layer with the specified shape\n",
        "    inputs = layers.Input(shape=input_shape)\n",
        "\n",
        "    # Convolutional and pooling layers to capture hierarchical features\n",
        "    conv1 = layers.Conv2D(32, (3, 3), activation='relu')(inputs)\n",
        "    pool1 = layers.MaxPooling2D(pool_size=(2, 2))(conv1)\n",
        "\n",
        "    conv2 = layers.Conv2D(64, (3, 3), activation='relu')(pool1)\n",
        "    pool2 = layers.MaxPooling2D(pool_size=(2, 2))(conv2)\n",
        "\n",
        "    conv3 = layers.Conv2D(128, (3, 3), activation='relu')(pool2)\n",
        "    pool3 = layers.MaxPooling2D(pool_size=(2, 2))(conv3)\n",
        "\n",
        "    # Flatten the output for feeding into dense layers\n",
        "    flat = layers.Flatten()(pool3)\n",
        "\n",
        "    # Dense layers for classification with ReLU activation\n",
        "    dense1 = layers.Dense(128, activation='relu')(flat)\n",
        "    dense2 = layers.Dense(256, activation='relu')(dense1)\n",
        "\n",
        "    # Output layer with softmax activation for multi-class classification\n",
        "    dense3 = layers.Dense(num_classes, activation='softmax')(dense2)\n",
        "\n",
        "    # Create the model with the defined inputs and outputs\n",
        "    model = tf.keras.Model(inputs=inputs, outputs=dense3)\n",
        "\n",
        "    return model"
      ],
      "metadata": {
        "id": "xoN8jYItA6ZG"
      },
      "execution_count": null,
      "outputs": []
    },
    {
      "cell_type": "code",
      "source": [
        "# Define the input shape based on the shape of the training data (excluding the batch size)\n",
        "input_shape = x_train.shape[1:]\n",
        "\n",
        "# Create an instance of the CNN model using the defined input shape and specifying the number of classes\n",
        "model = cnn_model(input_shape, num_classes=10)\n",
        "\n",
        "# Display a summary of the model architecture, including the layers, parameters, and output shapes\n",
        "model.summary()"
      ],
      "metadata": {
        "colab": {
          "base_uri": "https://localhost:8080/"
        },
        "id": "LfFLiPLmJG7r",
        "outputId": "ecf0462b-dd9d-4b5f-afcc-501a0210cfd7"
      },
      "execution_count": null,
      "outputs": [
        {
          "output_type": "stream",
          "name": "stdout",
          "text": [
            "Model: \"model\"\n",
            "_________________________________________________________________\n",
            " Layer (type)                Output Shape              Param #   \n",
            "=================================================================\n",
            " input_1 (InputLayer)        [(None, 64, 64, 13)]      0         \n",
            "                                                                 \n",
            " conv2d (Conv2D)             (None, 62, 62, 32)        3776      \n",
            "                                                                 \n",
            " max_pooling2d (MaxPooling2  (None, 31, 31, 32)        0         \n",
            " D)                                                              \n",
            "                                                                 \n",
            " conv2d_1 (Conv2D)           (None, 29, 29, 64)        18496     \n",
            "                                                                 \n",
            " max_pooling2d_1 (MaxPoolin  (None, 14, 14, 64)        0         \n",
            " g2D)                                                            \n",
            "                                                                 \n",
            " conv2d_2 (Conv2D)           (None, 12, 12, 128)       73856     \n",
            "                                                                 \n",
            " max_pooling2d_2 (MaxPoolin  (None, 6, 6, 128)         0         \n",
            " g2D)                                                            \n",
            "                                                                 \n",
            " flatten (Flatten)           (None, 4608)              0         \n",
            "                                                                 \n",
            " dense (Dense)               (None, 128)               589952    \n",
            "                                                                 \n",
            " dense_1 (Dense)             (None, 256)               33024     \n",
            "                                                                 \n",
            " dense_2 (Dense)             (None, 10)                2570      \n",
            "                                                                 \n",
            "=================================================================\n",
            "Total params: 721674 (2.75 MB)\n",
            "Trainable params: 721674 (2.75 MB)\n",
            "Non-trainable params: 0 (0.00 Byte)\n",
            "_________________________________________________________________\n"
          ]
        }
      ]
    },
    {
      "cell_type": "code",
      "source": [
        "# Compile the model with specified configuration for training\n",
        "model.compile(\n",
        "    # Use the Adam optimizer with a learning rate of 0.00001\n",
        "    optimizer=tf.keras.optimizers.Adam(learning_rate=0.00001),\n",
        "\n",
        "    # Use Binary Crossentropy as the loss function for binary classification\n",
        "    loss=tf.keras.losses.BinaryCrossentropy(),\n",
        "\n",
        "    # Track and display accuracy as a metric during training\n",
        "    metrics=['accuracy']\n",
        ")"
      ],
      "metadata": {
        "id": "Lg_gIr9LJkPg"
      },
      "execution_count": null,
      "outputs": []
    },
    {
      "cell_type": "code",
      "source": [
        "# Train the model on the training data\n",
        "history = model.fit(\n",
        "    # Input features (training data)\n",
        "    x=x_train,\n",
        "\n",
        "    # Target labels (training labels)\n",
        "    y=y_train,\n",
        "\n",
        "    # Validation data for monitoring model performance on a separate dataset\n",
        "    validation_data=(x_val, y_val),\n",
        "\n",
        "    # Number of epochs for training\n",
        "    epochs=20\n",
        ")"
      ],
      "metadata": {
        "colab": {
          "base_uri": "https://localhost:8080/"
        },
        "id": "zfPwZi8VJ95E",
        "outputId": "e89a2b92-d0ae-44b1-a048-abe68196a92f"
      },
      "execution_count": null,
      "outputs": [
        {
          "output_type": "stream",
          "name": "stdout",
          "text": [
            "Epoch 1/20\n",
            "29/29 [==============================] - 12s 29ms/step - loss: 66.8067 - accuracy: 0.1089 - val_loss: 17.4883 - val_accuracy: 0.1000\n",
            "Epoch 2/20\n",
            "29/29 [==============================] - 0s 12ms/step - loss: 13.3114 - accuracy: 0.1244 - val_loss: 9.0374 - val_accuracy: 0.1500\n",
            "Epoch 3/20\n",
            "29/29 [==============================] - 0s 13ms/step - loss: 7.6538 - accuracy: 0.1989 - val_loss: 6.3364 - val_accuracy: 0.1900\n",
            "Epoch 4/20\n",
            "29/29 [==============================] - 0s 13ms/step - loss: 5.9179 - accuracy: 0.3100 - val_loss: 5.3618 - val_accuracy: 0.3300\n",
            "Epoch 5/20\n",
            "29/29 [==============================] - 0s 11ms/step - loss: 5.0031 - accuracy: 0.3444 - val_loss: 4.7600 - val_accuracy: 0.3300\n",
            "Epoch 6/20\n",
            "29/29 [==============================] - 0s 11ms/step - loss: 4.3507 - accuracy: 0.3556 - val_loss: 4.6937 - val_accuracy: 0.3300\n",
            "Epoch 7/20\n",
            "29/29 [==============================] - 0s 11ms/step - loss: 4.0587 - accuracy: 0.3878 - val_loss: 3.9068 - val_accuracy: 0.3800\n",
            "Epoch 8/20\n",
            "29/29 [==============================] - 0s 12ms/step - loss: 3.7256 - accuracy: 0.4011 - val_loss: 4.0526 - val_accuracy: 0.4000\n",
            "Epoch 9/20\n",
            "29/29 [==============================] - 0s 11ms/step - loss: 3.4583 - accuracy: 0.4300 - val_loss: 3.8344 - val_accuracy: 0.4300\n",
            "Epoch 10/20\n",
            "29/29 [==============================] - 0s 11ms/step - loss: 3.2003 - accuracy: 0.4589 - val_loss: 3.5510 - val_accuracy: 0.4200\n",
            "Epoch 11/20\n",
            "29/29 [==============================] - 0s 12ms/step - loss: 3.0419 - accuracy: 0.4511 - val_loss: 3.5160 - val_accuracy: 0.4400\n",
            "Epoch 12/20\n",
            "29/29 [==============================] - 0s 11ms/step - loss: 2.9245 - accuracy: 0.4633 - val_loss: 3.1850 - val_accuracy: 0.4300\n",
            "Epoch 13/20\n",
            "29/29 [==============================] - 0s 13ms/step - loss: 2.8429 - accuracy: 0.4833 - val_loss: 3.1842 - val_accuracy: 0.4600\n",
            "Epoch 14/20\n",
            "29/29 [==============================] - 0s 15ms/step - loss: 2.7021 - accuracy: 0.4811 - val_loss: 3.1993 - val_accuracy: 0.4600\n",
            "Epoch 15/20\n",
            "29/29 [==============================] - 0s 15ms/step - loss: 2.5514 - accuracy: 0.4989 - val_loss: 2.9703 - val_accuracy: 0.4300\n",
            "Epoch 16/20\n",
            "29/29 [==============================] - 0s 13ms/step - loss: 2.6072 - accuracy: 0.4933 - val_loss: 2.7503 - val_accuracy: 0.4400\n",
            "Epoch 17/20\n",
            "29/29 [==============================] - 0s 15ms/step - loss: 2.3786 - accuracy: 0.5056 - val_loss: 2.8404 - val_accuracy: 0.5000\n",
            "Epoch 18/20\n",
            "29/29 [==============================] - 0s 15ms/step - loss: 2.3415 - accuracy: 0.5100 - val_loss: 2.9274 - val_accuracy: 0.5000\n",
            "Epoch 19/20\n",
            "29/29 [==============================] - 0s 15ms/step - loss: 2.1885 - accuracy: 0.5256 - val_loss: 2.6307 - val_accuracy: 0.4700\n",
            "Epoch 20/20\n",
            "29/29 [==============================] - 0s 14ms/step - loss: 2.0538 - accuracy: 0.5333 - val_loss: 2.5772 - val_accuracy: 0.4900\n"
          ]
        }
      ]
    },
    {
      "cell_type": "markdown",
      "source": [
        "**Model Assesment**"
      ],
      "metadata": {
        "id": "1V0q_vAwJdIC"
      }
    },
    {
      "cell_type": "code",
      "source": [
        "# Importing necessary libraries\n",
        "import matplotlib.pyplot as plt\n",
        "import seaborn as sns\n",
        "from sklearn.metrics import f1_score,accuracy_score, precision_score, recall_score,confusion_matrix"
      ],
      "metadata": {
        "id": "uLqviCDNKWDT"
      },
      "execution_count": null,
      "outputs": []
    },
    {
      "cell_type": "code",
      "source": [
        "# Set the figure size and dpi for the plot\n",
        "plt.figure(figsize=(3, 2), dpi=100)\n",
        "\n",
        "# Plot the training loss over epochs\n",
        "plt.plot(np.array(history.history['loss']), label='Training Loss')\n",
        "\n",
        "# Plot the validation loss over epochs\n",
        "plt.plot(np.array(history.history['val_loss']), label='Validation Loss')\n",
        "\n",
        "# Set labels for the axes\n",
        "plt.ylabel('Loss Function')\n",
        "plt.xlabel('Epochs')\n",
        "\n",
        "# Add a legend to identify the lines in the plot\n",
        "plt.legend(['Train', 'Validation'], loc='best')\n",
        "\n",
        "# Display the plot\n",
        "plt.show()"
      ],
      "metadata": {
        "id": "_8sc9zCWNBwb",
        "colab": {
          "base_uri": "https://localhost:8080/",
          "height": 234
        },
        "outputId": "480a96d0-1dc0-47a5-ccf4-bbef12818650"
      },
      "execution_count": null,
      "outputs": [
        {
          "output_type": "display_data",
          "data": {
            "text/plain": [
              "<Figure size 300x200 with 1 Axes>"
            ],
            "image/png": "[encoded data removed]"
          },
          "metadata": {}
        }
      ]
    },
    {
      "cell_type": "code",
      "source": [
        "# Evaluate the model on the validation data\n",
        "evaluation_results = model.evaluate(x_val, y_val)\n",
        "\n",
        "# Print or use the evaluation results as needed\n",
        "print(\"Evaluation Results:\", evaluation_results)\n"
      ],
      "metadata": {
        "colab": {
          "base_uri": "https://localhost:8080/"
        },
        "id": "ZMAm9HjeKlMi",
        "outputId": "b73f11d5-3fb3-4cdc-e5c4-a8b44a1df110"
      },
      "execution_count": null,
      "outputs": [
        {
          "output_type": "stream",
          "name": "stdout",
          "text": [
            "4/4 [==============================] - 0s 6ms/step - loss: 2.5772 - accuracy: 0.4900\n",
            "Evaluation Results: [2.5772364139556885, 0.49000000953674316]\n"
          ]
        }
      ]
    },
    {
      "cell_type": "code",
      "source": [
        "# Make predictions using the trained model on the validation data\n",
        "y_pred = model.predict(x_val)\n",
        "\n",
        "# Display the shape of the predicted values\n",
        "print(\"Shape of Predicted Values:\", y_pred.shape)\n"
      ],
      "metadata": {
        "colab": {
          "base_uri": "https://localhost:8080/"
        },
        "id": "CcT3gqI2MuI6",
        "outputId": "9b6adf7c-ae1d-40dd-fb69-1ae01a823f5d"
      },
      "execution_count": null,
      "outputs": [
        {
          "output_type": "stream",
          "name": "stdout",
          "text": [
            "4/4 [==============================] - 0s 5ms/step\n",
            "Shape of Predicted Values: (100, 10)\n"
          ]
        }
      ]
    },
    {
      "cell_type": "code",
      "source": [
        "# Get the indices of the maximum values along axis 1 for predicted values\n",
        "prediction = np.argmax(y_pred, axis=1)\n",
        "\n",
        "# Get the indices of the maximum values along axis 1 for actual values (ground truth)\n",
        "actual = np.argmax(y_val, axis=1)"
      ],
      "metadata": {
        "id": "EX7czQwmtoMh"
      },
      "execution_count": null,
      "outputs": []
    },
    {
      "cell_type": "code",
      "source": [
        "# Calculating F1 Score using the macro average method\n",
        "f1 = f1_score(actual, prediction, average='macro')\n",
        "\n",
        "# Calculating accuracy score\n",
        "accuracy = accuracy_score(actual, prediction)\n",
        "\n",
        "# Calculating precision using the macro average method\n",
        "precision = precision_score(actual, prediction, average='macro')\n",
        "\n",
        "# Calculating recall using the macro average method\n",
        "recall = recall_score(actual, prediction, average='macro')\n",
        "\n",
        "# Printing the computed metrics\n",
        "print('F1 Score:', f1)\n",
        "print('Accuracy:', accuracy)\n",
        "print('Precision:', precision)\n",
        "print('Recall:', recall)\n"
      ],
      "metadata": {
        "id": "zdZqkQTYMuLy",
        "colab": {
          "base_uri": "https://localhost:8080/"
        },
        "outputId": "49664654-aa64-4df3-c599-0188977e6d9c"
      },
      "execution_count": null,
      "outputs": [
        {
          "output_type": "stream",
          "name": "stdout",
          "text": [
            "F1 Score: 0.43666591966834256\n",
            "Accuracy: 0.47\n",
            "Precision: 0.4483649683649684\n",
            "Recall: 0.44247835497835497\n"
          ]
        }
      ]
    },
    {
      "cell_type": "code",
      "source": [
        "# Creating a confusion matrix using actual and predicted values\n",
        "cmat = confusion_matrix(actual, prediction)\n",
        "\n",
        "# Assuming 'classes' is a variable containing the class labels\n",
        "u = classes  # Class labels for y-axis\n",
        "v = classes  # Class labels for x-axis\n",
        "\n",
        "# Setting up the figure size and resolution for the heatmap\n",
        "plt.figure(figsize=(5, 3), dpi=150)\n",
        "\n",
        "# Creating a heatmap using seaborn with annotations, color map, and tick labels\n",
        "b = sns.heatmap(cmat, annot=True, cmap='RdYlGn', linewidths=.2, yticklabels=u, xticklabels=v)\n",
        "\n",
        "# Setting tick label sizes\n",
        "b.set_yticklabels(u, size=5)\n",
        "b.set_xticklabels(v, size=5)\n",
        "\n",
        "# Adding labels for y-axis and x-axis\n",
        "plt.ylabel('Actual', fontsize=10, fontweight='bold')\n",
        "plt.xlabel('Predicted', fontsize=10, fontweight='bold')\n",
        "\n",
        "# Displaying the heatmap\n",
        "plt.show()"
      ],
      "metadata": {
        "colab": {
          "base_uri": "https://localhost:8080/",
          "height": 562
        },
        "id": "RleQ5IgRMfk8",
        "outputId": "105e4156-64b0-4a89-ddae-6962e11ff494"
      },
      "execution_count": null,
      "outputs": [
        {
          "output_type": "display_data",
          "data": {
            "text/plain": [
              "<Figure size 750x450 with 2 Axes>"
            ],
            "image/png": "[encoded data removed]"
          },
          "metadata": {}
        }
      ]
    }
  ]
}